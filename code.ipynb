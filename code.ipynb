{
 "cells": [
  {
   "cell_type": "markdown",
   "id": "ac99e74d",
   "metadata": {},
   "source": [
    "# Python Programming Mini Project"
   ]
  },
  {
   "cell_type": "code",
   "execution_count": 1,
   "id": "7b61369b",
   "metadata": {
    "ExecuteTime": {
     "end_time": "2022-02-25T20:41:13.121844Z",
     "start_time": "2022-02-25T20:41:11.395260Z"
    }
   },
   "outputs": [],
   "source": [
    "# Import packages\n",
    "\n",
    "%matplotlib inline\n",
    "import pandas as pd\n",
    "import matplotlib.pyplot as plt"
   ]
  },
  {
   "cell_type": "code",
   "execution_count": 4,
   "id": "ec1acbc4",
   "metadata": {
    "ExecuteTime": {
     "end_time": "2022-02-25T20:47:50.763372Z",
     "start_time": "2022-02-25T20:47:50.758881Z"
    }
   },
   "outputs": [],
   "source": [
    "# Read in both text files\n",
    "\n",
    "#with open('/Users/zarawaheed/Documents/BostonUniversity/MA676/Assignments and Projects/Python Mini Project 1/friends.txt') as f:\n",
    "    #lines = f.readlines()\n",
    "\n",
    "friendsraw = pd.read_csv(\"/Users/zarawaheed/Documents/BostonUniversity/MA676/Assignments and Projects/Python Mini Project 1/friends.txt\", header=None)\n",
    "statesraw = pd.read_csv(\"/Users/zarawaheed/Documents/BostonUniversity/MA676/Assignments and Projects/Python Mini Project 1/states.txt\", header=None)"
   ]
  },
  {
   "cell_type": "code",
   "execution_count": 45,
   "id": "1a2a3aff",
   "metadata": {
    "ExecuteTime": {
     "end_time": "2022-02-25T21:52:18.780131Z",
     "start_time": "2022-02-25T21:52:18.764586Z"
    }
   },
   "outputs": [],
   "source": [
    "# Create a function where you input your file path, the name of your friends file and the name of state info file and get the state each friend's number belongs to\n",
    "\n",
    "def zwp(filepath, friendfile, statefile):\n",
    "\n",
    "    data = pd.read_csv(filepath + \"/\" + friendfile + \".txt\", header = None)\n",
    "    state_data = pd.read_csv(filepath + \"/\" + statefile + \".txt\", header = None)\n",
    "\n",
    "    #Wrangling data from friends.txt\n",
    "\n",
    "    names = data.iloc[::2].reset_index()\n",
    "    ph = data.iloc[1::2].reset_index()\n",
    "    friends_c = pd.merge(names,ph,how=\"inner\",left_index=True,right_index=True)\n",
    "    friends = friends_c.rename(columns={'0_x': 'Name', '0_y': 'Ph'}).drop(['index_x','index_y'], 1)\n",
    "\n",
    "    #Wrangling data from state.txt\n",
    "\n",
    "    arcode = state_data.iloc[::2].reset_index()\n",
    "    state = state_data.iloc[1::2].reset_index()\n",
    "    sm_c = pd.merge(arcode,state,how=\"inner\",left_index=True,right_index=True)\n",
    "    sm = sm_c.rename(columns={'0_x': 'Area Code', '0_y': 'State'}).drop(['index_x','index_y'], 1)\n",
    "\n",
    "    #Extracting area code from Phone numbers\n",
    "    friends['Area Code'] = friends['Ph'].str.replace(\"(\",\"\").astype(str).str[:3]\n",
    "\n",
    "    output = pd.merge(friends,sm,how='left')\n",
    "    print(output)"
   ]
  },
  {
   "cell_type": "code",
   "execution_count": 46,
   "id": "7b23d6c1",
   "metadata": {
    "ExecuteTime": {
     "end_time": "2022-02-25T21:52:19.763944Z",
     "start_time": "2022-02-25T21:52:19.713993Z"
    }
   },
   "outputs": [
    {
     "name": "stdout",
     "output_type": "stream",
     "text": [
      "    Name              Ph Area Code       State\n",
      "0    Ana     801-456-789       801        Utah\n",
      "1    Ben     609 4567890       609  New Jersey\n",
      "2   Cory  (206)-345-2619       206  Washington\n",
      "3  Danny      6095648765       609  New Jersey\n"
     ]
    }
   ],
   "source": [
    "# Trial run\n",
    "\n",
    "zwp(\"/Users/zarawaheed/Documents/BostonUniversity/MA676/Assignments and Projects/Python Mini Project 1/\", \"friends\", \"states\")"
   ]
  },
  {
   "cell_type": "code",
   "execution_count": null,
   "id": "180db660",
   "metadata": {},
   "outputs": [],
   "source": [
    "# Applying the function to a new friends file\n",
    "\n",
    "zwp(\"/Users/zarawaheed/Documents/BostonUniversity/MA676/Assignments and Projects/Python Mini Project 1/\", \"friends2\", \"states\")"
   ]
  }
 ],
 "metadata": {
  "kernelspec": {
   "display_name": "Python 3",
   "language": "python",
   "name": "python3"
  },
  "language_info": {
   "codemirror_mode": {
    "name": "ipython",
    "version": 3
   },
   "file_extension": ".py",
   "mimetype": "text/x-python",
   "name": "python",
   "nbconvert_exporter": "python",
   "pygments_lexer": "ipython3",
   "version": "3.6.13"
  }
 },
 "nbformat": 4,
 "nbformat_minor": 5
}
